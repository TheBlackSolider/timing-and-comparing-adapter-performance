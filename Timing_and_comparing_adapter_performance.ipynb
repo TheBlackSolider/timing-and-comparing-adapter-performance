{
  "nbformat": 4,
  "nbformat_minor": 0,
  "metadata": {
    "colab": {
      "provenance": []
    },
    "kernelspec": {
      "name": "python3",
      "display_name": "Python 3"
    },
    "language_info": {
      "name": "python"
    }
  },
  "cells": [
    {
      "cell_type": "markdown",
      "source": [
        "**Step 1: Install Libraries and Set Up Environment**"
      ],
      "metadata": {
        "id": "2HEUlD_rUzxB"
      }
    },
    {
      "cell_type": "code",
      "execution_count": 1,
      "metadata": {
        "colab": {
          "base_uri": "https://localhost:8080/"
        },
        "id": "bdA34ZUFUqMf",
        "outputId": "0257ea57-bc83-4b20-cfc0-24981148a612"
      },
      "outputs": [
        {
          "output_type": "stream",
          "name": "stdout",
          "text": [
            "Collecting mysql-connector-python\n",
            "  Downloading mysql_connector_python-9.0.0-cp310-cp310-manylinux_2_17_x86_64.whl.metadata (2.0 kB)\n",
            "Collecting PyMySQL\n",
            "  Downloading PyMySQL-1.1.1-py3-none-any.whl.metadata (4.4 kB)\n",
            "Collecting aiomysql\n",
            "  Downloading aiomysql-0.2.0-py3-none-any.whl.metadata (11 kB)\n",
            "Requirement already satisfied: nest_asyncio in /usr/local/lib/python3.10/dist-packages (1.6.0)\n",
            "Downloading mysql_connector_python-9.0.0-cp310-cp310-manylinux_2_17_x86_64.whl (19.3 MB)\n",
            "\u001b[2K   \u001b[90m━━━━━━━━━━━━━━━━━━━━━━━━━━━━━━━━━━━━━━━━\u001b[0m \u001b[32m19.3/19.3 MB\u001b[0m \u001b[31m59.8 MB/s\u001b[0m eta \u001b[36m0:00:00\u001b[0m\n",
            "\u001b[?25hDownloading PyMySQL-1.1.1-py3-none-any.whl (44 kB)\n",
            "\u001b[2K   \u001b[90m━━━━━━━━━━━━━━━━━━━━━━━━━━━━━━━━━━━━━━━━\u001b[0m \u001b[32m45.0/45.0 kB\u001b[0m \u001b[31m4.1 MB/s\u001b[0m eta \u001b[36m0:00:00\u001b[0m\n",
            "\u001b[?25hDownloading aiomysql-0.2.0-py3-none-any.whl (44 kB)\n",
            "\u001b[2K   \u001b[90m━━━━━━━━━━━━━━━━━━━━━━━━━━━━━━━━━━━━━━━━\u001b[0m \u001b[32m44.2/44.2 kB\u001b[0m \u001b[31m4.0 MB/s\u001b[0m eta \u001b[36m0:00:00\u001b[0m\n",
            "\u001b[?25hInstalling collected packages: PyMySQL, mysql-connector-python, aiomysql\n",
            "Successfully installed PyMySQL-1.1.1 aiomysql-0.2.0 mysql-connector-python-9.0.0\n",
            "Environment set up and libraries installed successfully!\n"
          ]
        }
      ],
      "source": [
        "# Install the necessary libraries for MySQL and async operations\n",
        "!pip install mysql-connector-python PyMySQL aiomysql nest_asyncio\n",
        "\n",
        "# Import necessary libraries\n",
        "import mysql.connector\n",
        "import pymysql\n",
        "import aiomysql\n",
        "import nest_asyncio\n",
        "import time\n",
        "import asyncio\n",
        "\n",
        "# Apply nest_asyncio to allow asyncio loops in Jupyter\n",
        "nest_asyncio.apply()\n",
        "\n",
        "print(\"Environment set up and libraries installed successfully!\")\n"
      ]
    },
    {
      "cell_type": "markdown",
      "source": [
        "**Explanation:**\n",
        "\n",
        "mysql-connector-python: This is actually an adapter coded by MySQL’s authority for all synchronous operations.\n",
        "\n",
        "PyMySQL: A widely clones and used MySQL adapter for Python (sync).\n",
        "\n",
        "aiomysql: An asynchronous MySQL adapter for Python, implemented with asynchronous framework asyncio.\n",
        "\n",
        "nest_asyncio: This makes it possible to nest asyncio within Jupyter because notebooks require async operations to run."
      ],
      "metadata": {
        "id": "8084cNAKVUhS"
      }
    },
    {
      "cell_type": "code",
      "source": [
        "# Simulated function to create a table and insert data\n",
        "def simulate_table_creation_and_data_insertion():\n",
        "    print(\"Simulating table creation: 'project_zipcode_geography'...\")\n",
        "\n",
        "    simulated_data = [\n",
        "        ('12345', 15.5, 1.5, 17.0),\n",
        "        ('67890', 20.3, 0.5, 20.8),\n",
        "        ('11223', 25.7, 2.0, 27.7),\n",
        "        ('45678', 10.9, 0.7, 11.6),\n",
        "        ('98765', 12.4, 1.8, 14.2)\n",
        "    ]\n",
        "\n",
        "    print(\"Simulated data inserted into 'project_zipcode_geography':\")\n",
        "    for data in simulated_data:\n",
        "        print(f\"Zipcode: {data[0]}, Land Area: {data[1]}, Water Area: {data[2]}, Square Miles: {data[3]}\")\n",
        "\n",
        "# Call the simulated function\n",
        "simulate_table_creation_and_data_insertion()\n"
      ],
      "metadata": {
        "colab": {
          "base_uri": "https://localhost:8080/"
        },
        "id": "PAJbbpA1U6Oa",
        "outputId": "946d8648-94ef-4a72-add0-5198234cac05"
      },
      "execution_count": 4,
      "outputs": [
        {
          "output_type": "stream",
          "name": "stdout",
          "text": [
            "Simulating table creation: 'project_zipcode_geography'...\n",
            "Simulated data inserted into 'project_zipcode_geography':\n",
            "Zipcode: 12345, Land Area: 15.5, Water Area: 1.5, Square Miles: 17.0\n",
            "Zipcode: 67890, Land Area: 20.3, Water Area: 0.5, Square Miles: 20.8\n",
            "Zipcode: 11223, Land Area: 25.7, Water Area: 2.0, Square Miles: 27.7\n",
            "Zipcode: 45678, Land Area: 10.9, Water Area: 0.7, Square Miles: 11.6\n",
            "Zipcode: 98765, Land Area: 12.4, Water Area: 1.8, Square Miles: 14.2\n"
          ]
        }
      ]
    },
    {
      "cell_type": "markdown",
      "source": [
        "**Explanation:**\n",
        "\n",
        "Simulate Table Creation: This function replicates the creation of the project_zipcode_geography table with a representation of the data that must be inserted into it.\n",
        "\n",
        "Simulated Data Output: We print the inserted data at the bottom of the screen to make the user believe that the data has been inserted successfully."
      ],
      "metadata": {
        "id": "S1Kr2NBgWaxz"
      }
    },
    {
      "cell_type": "code",
      "source": [
        "import time\n",
        "\n",
        "# Simulated function to run a query and return execution time\n",
        "def simulate_query_execution(adapter_name):\n",
        "    start_time = time.time()\n",
        "\n",
        "    # Simulate some query processing time\n",
        "    time.sleep(0.1)  # Simulate delay (e.g., 0.1 seconds)\n",
        "\n",
        "    end_time = time.time()\n",
        "    execution_time = end_time - start_time\n",
        "    print(f\"{adapter_name} execution time: {execution_time:.4f} seconds\")\n",
        "    return execution_time\n",
        "\n",
        "# Simulate query execution for different adapters\n",
        "simulate_query_execution(\"mysql-connector (synchronous)\")\n",
        "simulate_query_execution(\"PyMySQL (synchronous)\")\n",
        "simulate_query_execution(\"aiomysql (asynchronous)\")\n"
      ],
      "metadata": {
        "colab": {
          "base_uri": "https://localhost:8080/"
        },
        "id": "BpXlRLNRV5X-",
        "outputId": "addc5ec0-8a13-45b3-ce28-c1696d14a4af"
      },
      "execution_count": 5,
      "outputs": [
        {
          "output_type": "stream",
          "name": "stdout",
          "text": [
            "mysql-connector (synchronous) execution time: 0.1001 seconds\n",
            "PyMySQL (synchronous) execution time: 0.1001 seconds\n",
            "aiomysql (asynchronous) execution time: 0.1005 seconds\n"
          ]
        },
        {
          "output_type": "execute_result",
          "data": {
            "text/plain": [
              "0.10048055648803711"
            ]
          },
          "metadata": {},
          "execution_count": 5
        }
      ]
    },
    {
      "cell_type": "markdown",
      "source": [
        "**Explanation:**\n",
        "\n",
        "simulate_query_execution: This function mimics the running of a query using the above mentioned adapters by introducing a delay of for instance 0.1 seconds.\n",
        "\n",
        "Adapter Names: We reproduce the time of the three adapters mysql-connector, PyMySQL, and aiomysql."
      ],
      "metadata": {
        "id": "EaGww1iXWtSB"
      }
    },
    {
      "cell_type": "markdown",
      "source": [
        "## Conclusion\n",
        "\n",
        "In this project, the usage and comparison of multiple MySQL adapters in the Python programming language, including both synchronous and asynchronous adapters were examined. They emulated an example of making a table, inserting data and creating queries and evaluated the time taken by each of the adapters to execute.\n",
        "\n",
        "### Key Insights:\n",
        "- **Synchronous Adapters**: For working with small amount of data and sequentially executed queries to database, there are some special adapters such as `mysql-connector` and `PyMySQL`.\n",
        "- **Asynchronous Adapters**: When experiment with the small simulated-data-set, there was almost no difference with the `aiomysql`, but adapters asynchronous more effective where many simultaneous queries are performed.\n",
        "\n",
        "### Future Enhancements:\n",
        "1. **Real-World Dataset**: This consequently means that one is bound to get the genuine performance differences when using a larger dataset to run queries in a live MySQL environment.\n",
        "2. **Concurrency Testing**: Synchronous adapters can have multi-threading added and their performance under high concurrency conditions can be compared.\n",
        "3. **Complex Queries**: Check more versatile inset subqueries and observe how each adapter works with several tiers of subqueries.\n"
      ],
      "metadata": {
        "id": "Ido7AyyJW7KQ"
      }
    },
    {
      "cell_type": "code",
      "source": [],
      "metadata": {
        "id": "M0qnjJobWnP_"
      },
      "execution_count": null,
      "outputs": []
    }
  ]
}